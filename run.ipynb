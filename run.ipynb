{
 "cells": [
  {
   "cell_type": "code",
   "execution_count": 1,
   "id": "ab886373-d029-49e7-92c5-4d30f91ecaa4",
   "metadata": {},
   "outputs": [],
   "source": [
    "from crawling.get_recall_year_data import Recall_Year_Data\n",
    "from crawling.get_recall_manufacturer_data import Recall_Manufacturer_Data\n",
    "from crawling.get_hyundai_faq_data import Hyundai_Faq\n",
    "from crawling.get_kia_faq_data import Kia_Faq\n",
    "from crawling.make_file import Make_File"
   ]
  },
  {
   "cell_type": "code",
   "execution_count": 2,
   "id": "ccdd9c23-868b-4524-97f5-647196371f29",
   "metadata": {},
   "outputs": [
    {
     "name": "stdout",
     "output_type": "stream",
     "text": [
      "csv파일 생성완료\n"
     ]
    }
   ],
   "source": [
    "# 제조사별 리콜 데이터 크롤링\n",
    "rmd = Recall_Manufacturer_Data()\n",
    "df = rmd.get_manufacturer_df()\n",
    "\n",
    "# 제조사별 리콜 데이터 csv로 변환\n",
    "mk = Make_File(df, 'csv', 'recall_manufacturer_df')\n",
    "mk.make_file()"
   ]
  },
  {
   "cell_type": "code",
   "execution_count": null,
   "id": "66f51eca-13a0-4c4a-9e53-a0e423040cda",
   "metadata": {},
   "outputs": [
    {
     "name": "stdout",
     "output_type": "stream",
     "text": [
      "csv파일 생성완료\n"
     ]
    }
   ],
   "source": [
    "# 년도별 국내,해외별 리콜 데이터 크롤링 \n",
    "ryd = Recall_Year_Data()\n",
    "df0 = ryd.get_year_df()\n",
    "\n",
    "# 년도별 국내,해외별 리콜 데이터 csv로 변환 \n",
    "mk = Make_File(df0, 'csv', 'recall_year_df')\n",
    "mk.make_file()"
   ]
  },
  {
   "cell_type": "code",
   "execution_count": null,
   "id": "1c6afca0-7a53-47bc-9c12-ac7c66cbd04a",
   "metadata": {
    "scrolled": true
   },
   "outputs": [
    {
     "name": "stdout",
     "output_type": "stream",
     "text": [
      "csv파일 생성완료\n"
     ]
    }
   ],
   "source": [
    "# 현대 faq 데이터 크롤링\n",
    "hf = Hyundai_Faq()\n",
    "df1 = hf.get_hyundai_faq_df()\n",
    "\n",
    "# 현대 faq 데이터 csv로 변환\n",
    "mk = Make_File(df1, 'csv', 'hyundai_faq_df')\n",
    "mk.make_file()"
   ]
  },
  {
   "cell_type": "code",
   "execution_count": null,
   "id": "d2edd2c9-ba66-40a0-acbc-c86f071f2b85",
   "metadata": {},
   "outputs": [
    {
     "name": "stdout",
     "output_type": "stream",
     "text": [
      "csv파일 생성완료\n"
     ]
    }
   ],
   "source": [
    "# 기아 faq 데이터 크롤링\n",
    "kf = Kia_Faq()\n",
    "df2 = kf.get_kia_faq_df()\n",
    "\n",
    "# 기아 faq 데이터 크롤링\n",
    "mk = Make_File(df2, 'csv', 'kia_faq_df')\n",
    "mk.make_file()"
   ]
  },
  {
   "cell_type": "code",
   "execution_count": null,
   "id": "f8980d37-af14-43a3-a985-a210b3832bc6",
   "metadata": {},
   "outputs": [],
   "source": []
  },
  {
   "cell_type": "code",
   "execution_count": null,
   "id": "f802efd9-ab69-4fb7-b4bc-02b1fd250b75",
   "metadata": {},
   "outputs": [
    {
     "name": "stdout",
     "output_type": "stream",
     "text": [
      "year_data insert success\n",
      "manufacturer_data insert success\n",
      "faq_top10 insert success\n"
     ]
    }
   ],
   "source": [
    "from insert.insert_data import Insert_Data\n",
    "\n",
    "args = {\n",
    "  'host' : 'localhost',\n",
    "  'user' : 'root',\n",
    "  'password' : 'root1234',\n",
    "  'port' : 3306,\n",
    "  'database' : 'car_recall_db'\n",
    "}\n",
    "\n",
    "# key : value(data 파일명)\n",
    "file_name_dic = {'year_data_name': 'recall_year_df.csv',\n",
    "                'manufacturer_data_name':'recall_manufacturer_df.csv',\n",
    "                 'hyundai_faq_data_name':'hyundai_faq_df.csv',\n",
    "                 'kia_faq_data_name':'kia_faq_df.csv'\n",
    "                }\n",
    "\n",
    "\n",
    "input_data = Insert_Data(args,file_name_dic)\n",
    "\n",
    "# 스키마 생성\n",
    "input_data.create_schemas()\n",
    "\n",
    "# 테이블 생성\n",
    "input_data.create_table()\n",
    "\n",
    "# 년도별 데이터 mysql에 insert\n",
    "input_data.insert_year_data()\n",
    "\n",
    "# 제조사별 데이터 mysql에 insert\n",
    "input_data.insert_manufacturer_data()\n",
    "\n",
    "# faq 및 top10 데이터 mysql에 insert\n",
    "input_data.insert_faq_top10()"
   ]
  }
 ],
 "metadata": {
  "kernelspec": {
   "display_name": "Python 3 (ipykernel)",
   "language": "python",
   "name": "python3"
  },
  "language_info": {
   "codemirror_mode": {
    "name": "ipython",
    "version": 3
   },
   "file_extension": ".py",
   "mimetype": "text/x-python",
   "name": "python",
   "nbconvert_exporter": "python",
   "pygments_lexer": "ipython3",
   "version": "3.12.9"
  }
 },
 "nbformat": 4,
 "nbformat_minor": 5
}
